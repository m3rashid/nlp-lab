{
 "cells": [
  {
   "cell_type": "code",
   "execution_count": null,
   "id": "e9320239-c5a5-4cf3-b8a5-fbbc19f8a39e",
   "metadata": {},
   "outputs": [],
   "source": [
    "%pip install nltk\n",
    "%pip install numpy\n",
    "%pip install contractions"
   ]
  },
  {
   "cell_type": "code",
   "execution_count": null,
   "id": "f72caffa-ca5e-417f-82ca-891a05ebf20e",
   "metadata": {},
   "outputs": [],
   "source": [
    "import nltk"
   ]
  },
  {
   "cell_type": "code",
   "execution_count": null,
   "id": "4e6499a8-b5ce-4498-b112-78676d0237bb",
   "metadata": {},
   "outputs": [],
   "source": [
    "# word tokenisaion\n",
    "# sentence tokenisation\n",
    "# lower case / upper case\n",
    "# pattern matching using regular expressions\n",
    "# stopwords removal\n",
    "# stemming and lemmetization"
   ]
  },
  {
   "cell_type": "code",
   "execution_count": null,
   "id": "c7f69929-c973-4c64-82d3-472eb35952d5",
   "metadata": {},
   "outputs": [],
   "source": [
    "nltk.download('punkt')"
   ]
  },
  {
   "cell_type": "code",
   "execution_count": null,
   "id": "7d41e01c-de3c-4eed-bdd5-5d88fb94fc24",
   "metadata": {},
   "outputs": [],
   "source": [
    "sentence = \"\"\"\n",
    "What is Lorem Ipsum?\n",
    "Lorem Ipsum is simply dummy text of the printing and typesetting industry.\n",
    "Lorem Ipsum has been the industry's standard dummy text ever since the 1500s,\n",
    "when an unknown printer took a galley of type and scrambled it to make a type specimen book.\n",
    "It has survived not only five centuries, but also the leap into electronic typesetting, remaining essentially unchanged.\n",
    "It was popularised in the 1960s with the release of Letraset sheets containing Lorem Ipsum passages,\n",
    "and more recently with desktop publishing software like Aldus PageMaker including versions of Lorem Ipsum.\n",
    "Why do we use it? 12-12-2002\n",
    "It is a long established fact that a reader will be distracted by the readable content of a page when looking at its layout.\n",
    "The point of using Lorem Ipsum is that it has a more-or-less normal distribution of letters,\n",
    "as opposed to using 'Content here, content here',\n",
    "making it look like readable 16-10-2000 English.\n",
    "Many desktop publishing packages and web page editors now use Lorem Ipsum as their default model text, \n",
    "and a search for 'lorem ipsum' will uncover many web sites still in their infancy. \n",
    "Various versions have evolved over the years, sometimes by accident, sometimes on purpose (injected humour and the like.\n",
    "\"\"\""
   ]
  },
  {
   "cell_type": "code",
   "execution_count": null,
   "id": "e7742f46-1ce8-43fb-a0d9-9adae41c4541",
   "metadata": {},
   "outputs": [],
   "source": [
    "# word tokenization\n",
    "word_tokens = nltk.word_tokenize(sentence)\n",
    "word_tokens"
   ]
  },
  {
   "cell_type": "code",
   "execution_count": null,
   "id": "29d9787c-f65d-4a8c-a82c-2e389427cf55",
   "metadata": {},
   "outputs": [],
   "source": [
    "# sentence tokenization\n",
    "from nltk.tokenize import sent_tokenize\n",
    "\n",
    "tokenized_sentences = [s.replace(\"\\n\", \"\") for s in sent_tokenize(sentence)]\n",
    "tokenized_sentences"
   ]
  },
  {
   "cell_type": "code",
   "execution_count": null,
   "id": "afe693ae-7793-4b4b-b8f0-aeb5c2cdc722",
   "metadata": {},
   "outputs": [],
   "source": [
    "# lower case\n",
    "sentence.lower()"
   ]
  },
  {
   "cell_type": "code",
   "execution_count": null,
   "id": "97d2e0d5-6d04-49a8-b4e3-1611d73f92c5",
   "metadata": {},
   "outputs": [],
   "source": [
    "# upper case\n",
    "sentence.upper()"
   ]
  },
  {
   "cell_type": "code",
   "execution_count": null,
   "id": "ec23d983-0b4b-4c94-b765-262e3023fb73",
   "metadata": {},
   "outputs": [],
   "source": [
    "# stopwords removal\n",
    "from nltk.corpus import stopwords\n",
    " \n",
    "nltk.download('stopwords')\n",
    "stop_words = stopwords.words('english')\n",
    "special_characters = [x for x in \"!@#$%^&*()_+-=/.,;'[]?><:}{\\|\"]\n",
    "\n",
    "stop_words += special_characters\n",
    "stop_words_removed_sentence_array = [w for w in word_tokens if w not in stop_words] \n",
    "# stop_words_removed_sentence_array\n",
    "\n",
    "for word in word_tokens:\n",
    "    if word not in stop_words:\n",
    "        stop_words_removed_sentence_array.append(word)\n",
    "    else:\n",
    "        print(f\"Stopword removed: {word}\")\n",
    "\n",
    "stop_words_removed_sentence = \" \".join(stop_words_removed_sentence_array)\n",
    "stop_words_removed_sentence"
   ]
  },
  {
   "cell_type": "code",
   "execution_count": null,
   "id": "84c63b8d-902c-4c01-a67c-815eef19ad92",
   "metadata": {},
   "outputs": [],
   "source": [
    "from nltk.stem import PorterStemmer\n",
    "stemmer = PorterStemmer()\n",
    "\n",
    "# stemmed_words = [stemmer.stem(word) for word in word_tokens]\n",
    "# stemmed_words\n",
    "for word in word_tokens:\n",
    "    print(\"{0:20} {1:20}\".format(word, stemmer.stem(word)))"
   ]
  },
  {
   "cell_type": "code",
   "execution_count": null,
   "id": "afc52af6-6400-4334-befd-479253bef5da",
   "metadata": {},
   "outputs": [],
   "source": [
    "from nltk.stem import WordNetLemmatizer\n",
    "nltk.download('wordnet')\n",
    "lemmatizer = WordNetLemmatizer()\n",
    "\n",
    "# lemmetized_words_array = []\n",
    "# for word in word_tokens:\n",
    "#     if word.isalnum():\n",
    "#         lemmetized_words_array.append()\n",
    "\n",
    "# lemmetized_words = \" \".join(lemmetized_words_array)\n",
    "# lemmetized_words\n",
    "for word in word_tokens:\n",
    "    if word.isalnum():\n",
    "        print(\"{0:20}{1:20}\".format(word, lemmatizer.lemmatize(word)))"
   ]
  },
  {
   "cell_type": "code",
   "execution_count": null,
   "id": "ec82281a-7d9f-4c87-ac65-92804a1b6449",
   "metadata": {},
   "outputs": [],
   "source": [
    "# Remove punctuations\n",
    "import re\n",
    "import string\n",
    "\n",
    "# removed_punc = sentence.translate(str.maketrans('', '', string.punctuation)).replace(\"\\n\", \"\")\n",
    "\n",
    "removed_punc = re.sub('\\W+',' ', sentence)\n",
    "removed_punc"
   ]
  },
  {
   "cell_type": "code",
   "execution_count": null,
   "id": "3e6c43f2-877e-41c7-921b-058b92249b4b",
   "metadata": {},
   "outputs": [],
   "source": [
    "# remove urls from string\n",
    "input_string = \"Go to my site: https://www.m3rashid.in <br /> <h1>Hello</h1>\"\n",
    "\n",
    "url_pattern = re.compile(r'https?://\\S+|www\\.\\S+')\n",
    "html_tag_pattern =  re.compile('<.*?>')\n",
    "cleaned = url_pattern.sub(\"\", input_string)\n",
    "cleaned =  html_tag_pattern.sub(\"\", cleaned)\n",
    "cleaned"
   ]
  },
  {
   "cell_type": "code",
   "execution_count": null,
   "id": "33baaf18-389a-4bec-9cf7-b07af2882476",
   "metadata": {},
   "outputs": [],
   "source": [
    "import contractions\n",
    "contractions.fix(\"you're happy now\")"
   ]
  },
  {
   "cell_type": "code",
   "execution_count": null,
   "id": "011c463e-ca57-4383-a9fc-b3c1fa643d3b",
   "metadata": {},
   "outputs": [],
   "source": [
    "import dateutil.parser\n",
    "dates = [\"20-10-2020\", \"10/2/2022\", \"May 21, 2025\"]\n",
    "formatted = [dateutil.parser.parse(d).strftime(\"%d-%m-%y\") for d in dates]\n",
    "formatted"
   ]
  },
  {
   "cell_type": "code",
   "execution_count": null,
   "id": "a955dd98-2ce8-4f9a-bd59-ca82ffe3e4cf",
   "metadata": {},
   "outputs": [],
   "source": [
    "currencies = [\"Rupee\", \"rupee\", \"Rs\", \"rs\"]\n",
    "_txt = \"this is a Rupee, rs, rupee\"\n",
    "for c in currencies:\n",
    "    _txt = _txt.replace(c, \"Rs\")\n",
    "_txt"
   ]
  }
 ],
 "metadata": {
  "kernelspec": {
   "display_name": "Python 3 (ipykernel)",
   "language": "python",
   "name": "python3"
  },
  "language_info": {
   "codemirror_mode": {
    "name": "ipython",
    "version": 3
   },
   "file_extension": ".py",
   "mimetype": "text/x-python",
   "name": "python",
   "nbconvert_exporter": "python",
   "pygments_lexer": "ipython3",
   "version": "3.10.12"
  }
 },
 "nbformat": 4,
 "nbformat_minor": 5
}
