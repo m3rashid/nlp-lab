{
 "cells": [
  {
   "cell_type": "code",
   "execution_count": 2,
   "metadata": {},
   "outputs": [
    {
     "name": "stderr",
     "output_type": "stream",
     "text": [
      "[nltk_data] Downloading package words to /home/genos/nltk_data...\n",
      "[nltk_data]   Package words is already up-to-date!\n"
     ]
    }
   ],
   "source": [
    "import nltk\n",
    "from nltk.corpus import words\n",
    "nltk.download(\"words\")\n",
    "\n",
    "dictionary = set(words.words())"
   ]
  },
  {
   "cell_type": "code",
   "execution_count": 3,
   "metadata": {},
   "outputs": [
    {
     "name": "stdout",
     "output_type": "stream",
     "text": [
      "theca tint he hat\n"
     ]
    }
   ],
   "source": [
    "def max_match(sentence, dictionary):\n",
    "\t\tif sentence == \"\":\n",
    "\t\t\t\treturn []\n",
    "\t\tfor i in range(len(sentence), 0, -1):\n",
    "\t\t\t\tfirst_word = sentence[:i]\n",
    "\t\t\t\tremainder = sentence[i:]\n",
    "\t\t\t\tif first_word in dictionary:\n",
    "\t\t\t\t\t\treturn [first_word] + max_match(remainder, dictionary)\n",
    "\t\tfirst_word = sentence[0]\n",
    "\t\tremainder = sentence[1:]\n",
    "\t\treturn [first_word] + max_match(remainder, dictionary)\n",
    "\n",
    "\n",
    "# sentence = \"thequickbrownfoxjumpoverthelazydogandthedogquicklybarked\"\n",
    "# sentence = \"therequestiscomplete\"\n",
    "sentence = \"thecatinthehat\"\n",
    "print(\" \".join(max_match(sentence, dictionary)))"
   ]
  }
 ],
 "metadata": {
  "kernelspec": {
   "display_name": ".venv",
   "language": "python",
   "name": "python3"
  },
  "language_info": {
   "codemirror_mode": {
    "name": "ipython",
    "version": 3
   },
   "file_extension": ".py",
   "mimetype": "text/x-python",
   "name": "python",
   "nbconvert_exporter": "python",
   "pygments_lexer": "ipython3",
   "version": "3.10.12"
  }
 },
 "nbformat": 4,
 "nbformat_minor": 2
}
