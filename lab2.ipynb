{
 "cells": [
  {
   "cell_type": "code",
   "execution_count": null,
   "id": "b4952e8f-54ce-450d-afb4-4d3f24d6cca7",
   "metadata": {},
   "outputs": [],
   "source": [
    "%pip install nltk\n",
    "%pip install requests\n",
    "%pip install beautifulsoup4"
   ]
  },
  {
   "cell_type": "code",
   "execution_count": null,
   "id": "f17d87d0-44f3-421b-9739-ded870079458",
   "metadata": {},
   "outputs": [],
   "source": [
    "import nltk\n",
    "nltk.download('punkt')\n",
    "from bs4 import BeautifulSoup\n",
    "import requests\n",
    "from nltk.tokenize import sent_tokenize"
   ]
  },
  {
   "cell_type": "code",
   "execution_count": null,
   "id": "94be70b7-bb18-4c8a-9af2-9b3b4b991182",
   "metadata": {},
   "outputs": [],
   "source": [
    "# Given a url from the user\n",
    "# 1. Fetch the texual content of the webpage\n",
    "# 2. Perform all the possible cleaning and prepare a text file\n",
    "# 3. Prepare a list of \n",
    "#          1. Paragraphs\n",
    "#          2. Sentences \n",
    "#          3. Words\n",
    "#          4. Unique words\n",
    "#          5. links"
   ]
  },
  {
   "cell_type": "code",
   "execution_count": null,
   "id": "20a12d5e-aa45-4eb7-acde-0bf1d9128b47",
   "metadata": {},
   "outputs": [],
   "source": [
    "# URL = \"https://webscraper.io/test-sites/e-commerce/allinone\"\n",
    "# URL = \"https://en.wikipedia.org/wiki/Sachin_Tendulkar\"\n",
    "URL = \"https://momentum.medium.com/what-do-you-wish-more-people-knew-about-black-history-62ef9c38c5c6\"\n",
    "page = requests.get(URL)\n",
    "pageContents = page.text\n",
    "soup = BeautifulSoup(pageContents).body\n",
    "\n",
    "text_corpus = []\n",
    "# REPLACES = []\n",
    "REPLACES = {\n",
    "    '|' : '', \n",
    "    '\\'': '', \n",
    "    '\\\"': '', \n",
    "    '\\\\n': ' ', \n",
    "    '\\\\t': ' ', \n",
    "    '\\\\s': ' ', \n",
    "    ',': '',\n",
    "    '..': '',\n",
    "    '...': '',\n",
    "    '--': '',\n",
    "}\n",
    "\n",
    "for i in soup.stripped_strings:\n",
    "    text = repr(i)\n",
    "    for key in REPLACES:\n",
    "        text = text.replace(key, REPLACES[key])\n",
    "    text = \" \".join(text.split())\n",
    "    text_corpus.append(text)\n",
    "text_corpus"
   ]
  },
  {
   "cell_type": "code",
   "execution_count": null,
   "id": "7367a5c4-94c3-4188-8517-fec177e3d314",
   "metadata": {},
   "outputs": [],
   "source": [
    "# articles = soup.find_all('p', 'class'=\"pw-post-body-paragraph\")\n",
    "# print(articles)"
   ]
  },
  {
   "cell_type": "code",
   "execution_count": null,
   "id": "2be785ab-a409-404c-945f-98f8ce83891e",
   "metadata": {},
   "outputs": [],
   "source": [
    "with open('file.txt', 'w') as fp:\n",
    "    try:\n",
    "        for text in text_corpus:\n",
    "            fp.write(text + '\\n')\n",
    "    except:\n",
    "        fp.close()"
   ]
  },
  {
   "cell_type": "code",
   "execution_count": null,
   "id": "1eb072a9-9f09-4610-ab6c-eee709b79bc0",
   "metadata": {},
   "outputs": [],
   "source": [
    "LINK_ATTRIBUTES = ['src', 'href', 'url']\n",
    "\n",
    "all_links = []\n",
    "for attr in LINK_ATTRIBUTES:\n",
    "    all_links += [tag.attrs[attr] for tag in soup.select(f\"[{attr}]\")]\n",
    "all_links = sorted(set(all_links))\n",
    "all_links"
   ]
  },
  {
   "cell_type": "code",
   "execution_count": null,
   "id": "cd5d2bc2-e861-402c-a81a-52548dd3ef56",
   "metadata": {},
   "outputs": [],
   "source": [
    "words = []\n",
    "for word in nltk.word_tokenize(\" \".join(text_corpus)):\n",
    "    if word.isalnum():\n",
    "        words.append(word)\n",
    "\n",
    "unique_words = sorted(set(words))\n",
    "unique_words"
   ]
  },
  {
   "cell_type": "code",
   "execution_count": null,
   "id": "53426739-9422-4b3d-b063-7426e98afd09",
   "metadata": {},
   "outputs": [],
   "source": [
    "tokenized_sentences = [s.replace(\"\\n\", \"\") for s in sent_tokenize(\". \".join(text_corpus))]\n",
    "tokenized_sentences"
   ]
  },
  {
   "cell_type": "code",
   "execution_count": null,
   "id": "c730106e-6838-49aa-8da9-b954d507efda",
   "metadata": {},
   "outputs": [],
   "source": [
    "from nltk.stem import PorterStemmer\n",
    "\n",
    "stemmed_words = []\n",
    "ps = PorterStemmer()\n",
    "for word in unique_words:\n",
    "    stemmed_words.append(ps.stem(word))\n",
    "for idx in range (len(stemmed_words)):\n",
    "    print(idx+1, stemmed_words[idx])"
   ]
  }
 ],
 "metadata": {
  "kernelspec": {
   "display_name": "Python 3 (ipykernel)",
   "language": "python",
   "name": "python3"
  },
  "language_info": {
   "codemirror_mode": {
    "name": "ipython",
    "version": 3
   },
   "file_extension": ".py",
   "mimetype": "text/x-python",
   "name": "python",
   "nbconvert_exporter": "python",
   "pygments_lexer": "ipython3",
   "version": "3.10.12"
  }
 },
 "nbformat": 4,
 "nbformat_minor": 5
}
