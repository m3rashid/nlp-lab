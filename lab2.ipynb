{
 "cells": [
  {
   "cell_type": "code",
   "execution_count": 1,
   "id": "b4952e8f-54ce-450d-afb4-4d3f24d6cca7",
   "metadata": {},
   "outputs": [
    {
     "name": "stdout",
     "output_type": "stream",
     "text": [
      "Requirement already satisfied: nltk in ./.venv/lib/python3.10/site-packages (3.8.1)\n",
      "Requirement already satisfied: regex>=2021.8.3 in ./.venv/lib/python3.10/site-packages (from nltk) (2023.12.25)\n",
      "Requirement already satisfied: click in ./.venv/lib/python3.10/site-packages (from nltk) (8.1.7)\n",
      "Requirement already satisfied: joblib in ./.venv/lib/python3.10/site-packages (from nltk) (1.3.2)\n",
      "Requirement already satisfied: tqdm in ./.venv/lib/python3.10/site-packages (from nltk) (4.66.2)\n",
      "Note: you may need to restart the kernel to use updated packages.\n",
      "Collecting requests\n",
      "  Downloading requests-2.31.0-py3-none-any.whl (62 kB)\n",
      "\u001b[2K     \u001b[38;2;114;156;31m━━━━━━━━━━━━━━━━━━━━━━━━━━━━━━━━━━━━━━━\u001b[0m \u001b[32m62.6/62.6 KB\u001b[0m \u001b[31m902.8 kB/s\u001b[0m eta \u001b[36m0:00:00\u001b[0mMB/s\u001b[0m eta \u001b[36m0:00:01\u001b[0m\n",
      "\u001b[?25hCollecting certifi>=2017.4.17\n",
      "  Downloading certifi-2024.2.2-py3-none-any.whl (163 kB)\n",
      "\u001b[2K     \u001b[38;2;114;156;31m━━━━━━━━━━━━━━━━━━━━━━━━━━━━━━━━━━━━━━━\u001b[0m \u001b[32m163.8/163.8 KB\u001b[0m \u001b[31m1.6 MB/s\u001b[0m eta \u001b[36m0:00:00\u001b[0m[31m2.5 MB/s\u001b[0m eta \u001b[36m0:00:01\u001b[0m\n",
      "\u001b[?25hCollecting charset-normalizer<4,>=2\n",
      "  Downloading charset_normalizer-3.3.2-cp310-cp310-manylinux_2_17_x86_64.manylinux2014_x86_64.whl (142 kB)\n",
      "\u001b[2K     \u001b[38;2;114;156;31m━━━━━━━━━━━━━━━━━━━━━━━━━━━━━━━━━━━━━━━\u001b[0m \u001b[32m142.1/142.1 KB\u001b[0m \u001b[31m1.2 MB/s\u001b[0m eta \u001b[36m0:00:00\u001b[0m[31m1.3 MB/s\u001b[0m eta \u001b[36m0:00:01\u001b[0m\n",
      "\u001b[?25hCollecting urllib3<3,>=1.21.1\n",
      "  Downloading urllib3-2.2.1-py3-none-any.whl (121 kB)\n",
      "\u001b[2K     \u001b[38;2;114;156;31m━━━━━━━━━━━━━━━━━━━━━━━━━━━━━━━━━━━━━━━\u001b[0m \u001b[32m121.1/121.1 KB\u001b[0m \u001b[31m4.5 MB/s\u001b[0m eta \u001b[36m0:00:00\u001b[0m\n",
      "\u001b[?25hCollecting idna<4,>=2.5\n",
      "  Downloading idna-3.6-py3-none-any.whl (61 kB)\n",
      "\u001b[2K     \u001b[38;2;114;156;31m━━━━━━━━━━━━━━━━━━━━━━━━━━━━━━━━━━━━━━━━\u001b[0m \u001b[32m61.6/61.6 KB\u001b[0m \u001b[31m4.4 MB/s\u001b[0m eta \u001b[36m0:00:00\u001b[0m\n",
      "\u001b[?25hInstalling collected packages: urllib3, idna, charset-normalizer, certifi, requests\n",
      "Successfully installed certifi-2024.2.2 charset-normalizer-3.3.2 idna-3.6 requests-2.31.0 urllib3-2.2.1\n",
      "Note: you may need to restart the kernel to use updated packages.\n",
      "Collecting beautifulsoup4\n",
      "  Downloading beautifulsoup4-4.12.3-py3-none-any.whl (147 kB)\n",
      "\u001b[2K     \u001b[38;2;114;156;31m━━━━━━━━━━━━━━━━━━━━━━━━━━━━━━━━━━━━━━━\u001b[0m \u001b[32m147.9/147.9 KB\u001b[0m \u001b[31m1.1 MB/s\u001b[0m eta \u001b[36m0:00:00\u001b[0m[31m1.1 MB/s\u001b[0m eta \u001b[36m0:00:01\u001b[0m\n",
      "\u001b[?25hCollecting soupsieve>1.2\n",
      "  Downloading soupsieve-2.5-py3-none-any.whl (36 kB)\n",
      "Installing collected packages: soupsieve, beautifulsoup4\n",
      "Successfully installed beautifulsoup4-4.12.3 soupsieve-2.5\n",
      "Note: you may need to restart the kernel to use updated packages.\n"
     ]
    }
   ],
   "source": [
    "%pip install nltk\n",
    "%pip install requests\n",
    "%pip install beautifulsoup4"
   ]
  },
  {
   "cell_type": "code",
   "execution_count": null,
   "id": "f17d87d0-44f3-421b-9739-ded870079458",
   "metadata": {},
   "outputs": [],
   "source": [
    "import nltk\n",
    "nltk.download('punkt')\n",
    "from bs4 import BeautifulSoup\n",
    "import requests\n",
    "from nltk.tokenize import sent_tokenize"
   ]
  },
  {
   "cell_type": "code",
   "execution_count": null,
   "id": "94be70b7-bb18-4c8a-9af2-9b3b4b991182",
   "metadata": {},
   "outputs": [],
   "source": [
    "# Given a url from the user\n",
    "# 1. Fetch the texual content of the webpage\n",
    "# 2. Perform all the possible cleaning and prepare a text file\n",
    "# 3. Prepare a list of \n",
    "#          1. Paragraphs\n",
    "#          2. Sentences \n",
    "#          3. Words\n",
    "#          4. Unique words\n",
    "#          5. links"
   ]
  },
  {
   "cell_type": "code",
   "execution_count": null,
   "id": "20a12d5e-aa45-4eb7-acde-0bf1d9128b47",
   "metadata": {},
   "outputs": [],
   "source": [
    "# URL = \"https://webscraper.io/test-sites/e-commerce/allinone\"\n",
    "# URL = \"https://en.wikipedia.org/wiki/Sachin_Tendulkar\"\n",
    "URL = \"https://momentum.medium.com/what-do-you-wish-more-people-knew-about-black-history-62ef9c38c5c6\"\n",
    "page = requests.get(URL)\n",
    "pageContents = page.text\n",
    "soup = BeautifulSoup(pageContents).body\n",
    "\n",
    "text_corpus = []\n",
    "# REPLACES = []\n",
    "REPLACES = {\n",
    "    '|' : '', \n",
    "    '\\'': '', \n",
    "    '\\\"': '', \n",
    "    '\\\\n': ' ', \n",
    "    '\\\\t': ' ', \n",
    "    '\\\\s': ' ', \n",
    "    ',': '',\n",
    "    '..': '',\n",
    "    '...': '',\n",
    "    '--': '',\n",
    "}\n",
    "\n",
    "for i in soup.stripped_strings:\n",
    "    text = repr(i)\n",
    "    for key in REPLACES:\n",
    "        text = text.replace(key, REPLACES[key])\n",
    "    text = \" \".join(text.split())\n",
    "    text_corpus.append(text)\n",
    "text_corpus"
   ]
  },
  {
   "cell_type": "code",
   "execution_count": null,
   "id": "7367a5c4-94c3-4188-8517-fec177e3d314",
   "metadata": {},
   "outputs": [],
   "source": [
    "# articles = soup.find_all('p', 'class'=\"pw-post-body-paragraph\")\n",
    "# print(articles)"
   ]
  },
  {
   "cell_type": "code",
   "execution_count": null,
   "id": "2be785ab-a409-404c-945f-98f8ce83891e",
   "metadata": {},
   "outputs": [],
   "source": [
    "with open('file.txt', 'w') as fp:\n",
    "    try:\n",
    "        for text in text_corpus:\n",
    "            fp.write(text + '\\n')\n",
    "    except:\n",
    "        fp.close()"
   ]
  },
  {
   "cell_type": "code",
   "execution_count": null,
   "id": "1eb072a9-9f09-4610-ab6c-eee709b79bc0",
   "metadata": {},
   "outputs": [],
   "source": [
    "LINK_ATTRIBUTES = ['src', 'href', 'url']\n",
    "\n",
    "all_links = []\n",
    "for attr in LINK_ATTRIBUTES:\n",
    "    all_links += [tag.attrs[attr] for tag in soup.select(f\"[{attr}]\")]\n",
    "all_links = sorted(set(all_links))\n",
    "all_links"
   ]
  },
  {
   "cell_type": "code",
   "execution_count": null,
   "id": "cd5d2bc2-e861-402c-a81a-52548dd3ef56",
   "metadata": {},
   "outputs": [],
   "source": [
    "words = []\n",
    "for word in nltk.word_tokenize(\" \".join(text_corpus)):\n",
    "    if word.isalnum():\n",
    "        words.append(word)\n",
    "\n",
    "unique_words = sorted(set(words))\n",
    "unique_words"
   ]
  },
  {
   "cell_type": "code",
   "execution_count": null,
   "id": "53426739-9422-4b3d-b063-7426e98afd09",
   "metadata": {},
   "outputs": [],
   "source": [
    "tokenized_sentences = [s.replace(\"\\n\", \"\") for s in sent_tokenize(\". \".join(text_corpus))]\n",
    "tokenized_sentences"
   ]
  },
  {
   "cell_type": "code",
   "execution_count": null,
   "id": "c730106e-6838-49aa-8da9-b954d507efda",
   "metadata": {},
   "outputs": [],
   "source": [
    "from nltk.stem import PorterStemmer\n",
    "\n",
    "stemmed_words = []\n",
    "ps = PorterStemmer()\n",
    "for word in unique_words:\n",
    "    stemmed_words.append(ps.stem(word))\n",
    "for idx in range (len(stemmed_words)):\n",
    "    print(idx+1, stemmed_words[idx])"
   ]
  }
 ],
 "metadata": {
  "kernelspec": {
   "display_name": "Python 3 (ipykernel)",
   "language": "python",
   "name": "python3"
  },
  "language_info": {
   "codemirror_mode": {
    "name": "ipython",
    "version": 3
   },
   "file_extension": ".py",
   "mimetype": "text/x-python",
   "name": "python",
   "nbconvert_exporter": "python",
   "pygments_lexer": "ipython3",
   "version": "3.10.12"
  }
 },
 "nbformat": 4,
 "nbformat_minor": 5
}
