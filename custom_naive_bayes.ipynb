{
 "cells": [
  {
   "cell_type": "code",
   "execution_count": 23,
   "metadata": {},
   "outputs": [
    {
     "name": "stdout",
     "output_type": "stream",
     "text": [
      "Note: you may need to restart the kernel to use updated packages.\n"
     ]
    },
    {
     "name": "stderr",
     "output_type": "stream",
     "text": [
      "[nltk_data] Downloading package stopwords to /home/genos/nltk_data...\n",
      "[nltk_data]   Package stopwords is already up-to-date!\n"
     ]
    },
    {
     "data": {
      "text/plain": [
       "True"
      ]
     },
     "execution_count": 23,
     "metadata": {},
     "output_type": "execute_result"
    }
   ],
   "source": [
    "%pip install -q requests nltk beautifulsoup4 contractions pandas numpy scikit_learn\n",
    "import nltk\n",
    "nltk.download('stopwords')"
   ]
  },
  {
   "cell_type": "code",
   "execution_count": 24,
   "metadata": {},
   "outputs": [
    {
     "name": "stderr",
     "output_type": "stream",
     "text": [
      "100%|██████████| 2/2 [00:44<00:00, 22.38s/it]\n"
     ]
    },
    {
     "data": {
      "text/plain": [
       "['football league third division south spent two seasons never secured regular place clubs first team moved brighton hove albion joining french club fc sète referencesedit b joyce michael 2004 football league players records 18881939 soccerdata p 240 isbn 1899468676 brown tony 2003 definitive gillingham fc complete record soccerdata pp 4142 isbn 189946820x biographical article related association football england defender born 1900s stub help wikipedia expanding itvte retrieved httpsenwikipediaorgwindexphptitleharold_slyoldid1164072454 categories 1904 birthspeople appley bridgeenglish mens footballersmens association football utility playersbirmingham city fc playerstamworth fc playersgillingham fc playersbrighton hove albion fc playersfc sète 34 playersenglish football league playersmens association football fullbacksmens association football midfieldersmens association football inside forwardsfootballers lancashireenglish football defender 1900s birth stubshidden categories articles short descriptionshort description different wikidatause british english august 2011use dmy dates december 2021year death missingall stub articles page last edited 7 july 2023 2037 utc text available creative commons attributionsharealike license 40 additional terms may apply using site agree terms use privacy policy wikipedia registered trademark wikimedia foundation inc nonprofit organization privacy policy wikipedia disclaimers contact wikipedia code conduct developers statistics cookie statement mobile view toggle limited content width',\n",
       " 'consultant listed one top ten influential african americans san francisco bay area city flight magazine 2000 education careeredit nwoffiah educated government college umuahia university lagos moving united states study columbia university graduate school business inm hollywood film institute president rhesus media group executive director oriki theater california adjunct faculty member menlo college california principal partner c3 media abuja nigeria director silicon valley african film festival filmographyedit 2000 growing black america 2001 jamaica spirit enterprise 2002 tantu 2003 jewel history 2004 killing choctaw 2005 every drop counts 2006 bridges 2007 wake africa 2009 prayer inauguration 2009 sabar life dance see alsoedit list nigerian film producers referencesedit speaker chike nwoffiah trade africa retrieved 15 june 2021 california chike nwoffiah returns rose freddy vanguard news 27 july 2018 retrieved 18 july 2022 chike nwoffiah biography need know gossiptrendz gossiptrendz 30 march 2022 retrieved 16 february 2023 music chike c nwoffiah pdf palo alto online page 15 worth look palo alto weekly 30 march 2007 retrieved 16 february 2010 2007 conference community arts education keynote speakers pdf guild notes national guild community schools arts summer 2007 retrieved 16 february 2010permanent dead link b interview silicon valleys african film festival founder chike c nwoffiah wunderland wunderland 2021 27 october 2017 archived original 16 june 2021 retrieved 15 june 2021 external linksedit chike c nwoffiah imdb httpswebarchiveorgweb20090801033222httpc3medianet retrieved httpsenwikipediaorgwindexphptitlechike_nwoffiaholdid1187943869 categories 1965 birthsnigerian film directorsliving peopleuniversity lagos alumni21stcentury nigerian male actorscolumbia business school alumninigerian theatre directorsgovernment college umuahia alumniigbo actorsnigerian male television actorsnigerian film producershidden categories pages using phonos extensionall articles dead external linksarticles dead external links august 2017articles permanently dead external linksarticles short descriptionshort description matches wikidatause dmy dates september 2022use nigerian english september 2022blp articles lacking sources june 2021all blp articles lacking sourcesarticles hcards page last edited 2 december 2023 1239 utc text available creative commons attributionsharealike license 40 additional terms may apply using site agree terms use privacy policy wikipedia registered trademark wikimedia foundation inc nonprofit organization privacy policy wikipedia disclaimers contact wikipedia code conduct developers statistics cookie statement mobile view toggle limited content width',\n",
       " 'ipni 952371 ncbi 141468 open tree life 920649 plant list kew2699101 powo urnlsidipniorgnames952371 tropicos 2603218 wfo wfo0000586135 apocynaceae article stub help wikipedia expanding itvte retrieved httpsenwikipediaorgwindexphptitlecaralluma_crenulataoldid1050766225 categories asclepiadoideaeflora myanmarplants described 1829apocynaceae stubshidden categories articles short descriptionshort description matches wikidataarticles species microformatsall stub articles page last edited 19 october 2021 1939 utc text available creative commons attributionsharealike license 40 additional terms may apply using site agree terms use privacy policy wikipedia registered trademark wikimedia foundation inc nonprofit organization privacy policy wikipedia disclaimers contact wikipedia code conduct developers statistics cookie statement mobile view toggle limited content width',\n",
       " 'current name 1980 abstracting indexingedit journal abstracted indexed america history life british humanities index mla international bibliography external linksedit official website retrieved httpsenwikipediaorgwindexphptitleprose_studiesoldid1174926021 categories englishlanguage journalsacademic journals established 1977taylor francis academic journalstriannual journalsliterary magazineshidden categories articles short descriptionshort description different wikidatatriannual journals infobox page last edited 11 september 2023 1626 utc text available creative commons attributionsharealike license 40 additional terms may apply using site agree terms use privacy policy wikipedia registered trademark wikimedia foundation inc nonprofit organization privacy policy wikipedia disclaimers contact wikipedia code conduct developers statistics cookie statement mobile view toggle limited content width',\n",
       " 'nique bring issue affirmative action everyday terms bake sales organized many schools across us sometimes annually affirmative action bake sales also taken place university pretoria south africa latest 2008 forcibly broken campus security receptionedit bake sales met opposition drawing crowds students sometimes facing opposition restriction campus administrations often accused racism sometimes even attacked additionally administrators accused censorship inappropriately advocating political position responding affirmative action bake sale attacked university washington schools board regents president jerry grinstein presented opinion many opponents events described statements putting bake sale affirmative action tasteless divisive hurtful many members university community student leader bake sale ucla addressed issue divisiveness saying wanted show affirmative action racial division racial reconciliation similarly administrators bucknell university claimed bake sales violated private universitys discrimination policy criticisms concept claim bake sales take account ingrained social factors favor white people opinion column houston chronicle similar sale took place texas university held actions like reinforce common misconception affirmative action policies give academically unqualified minority students getintocollegefree card ignore historical discrimination denied nonwhites opportunities successful price matter talents intelligence editorial also praised school officials shutting sale university illinois urbanachampaign graduate professional students color student organization responded bake sale held students individual liberty holding white privilege popcorn giveaway white males received full bag popcorn women nonwhites received 13 bag see alsoedit affirmative action united states reverse discrimination whites scholarship white privilege white backlash referencesedit schladebeck jessica 20170923 affirmative action bake sale charges students based race ny daily news retrieved 20171107 b democrats riled race genderbiased bake sale daily bruin aabee cake sale broken news24 b jones ashby 20090623 bucknell affirmativeaction bakesale law blog wsj blogswsjcom retrieved 20110928 bucc donut sale rejected administration bucknellian bucknell university bucknelledu 20090424 archived original 20120910 retrieved 20110928 john stossel discusses bucknells affirmative action bake sale fox news megyn kelly watch fire stossel tonight fire 20101111 retrieved 20110928 b c bake sales used protest affirmative action cnn december 24 2003 broken link staff 20031019 cookie sale halfbaked affirmative action protest houston chronicle p d4 alan keyes reparations bakesale students individual liberty 19 october 2004 organizations hosts white privilege popcorn giveaway daily illini retrieved httpsenwikipediaorgwindexphptitleaffirmative_action_bake_saleoldid1109773981 categories education policypolitical activismprotest tacticsaffirmative action united statesopposition affirmative actionhidden categories articles short descriptionshort description matches wikidata page last edited 11 september 2022 2006 utc text available creative commons attributionsharealike license 40 additional terms may apply using site agree terms use privacy policy wikipedia registered trademark wikimedia foundation inc nonprofit organization privacy policy wikipedia disclaimers contact wikipedia code conduct developers statistics cookie statement mobile view toggle limited content width',\n",
       " 'rson needs additional citations verification please help adding reliable sources contentious material living persons unsourced poorly sourced must removed immediately article talk page especially potentially libelousfind sources shayne currie news newspapers books scholar jstor august 2015 learn remove template message currie began journalistic career teenager evening post wellington national award crime reporting subsequently worked newspapers including press christchurch sunday startimes part media group independent newspaper limited inl ultimately owned australian newspaper magnate rupert murdoch currie sunday startimes murdoch sold new zealand newspaper holdings john fairfax holdings another australian newspaper publishing company currie rose deputy editor startimes new zealands highestcirculating paper suzanne chetwin resigned startimes editor 2003 currie led newspaper acting capacity appointment cate brett editor numerous journalism awards july 2004 resigned startimes work special project apn news media rival media group owned new zealand herald range provincial newspapers magazines radio stations special project subsequently revealed herald sunday another sunday newspaper currie appointed deputy editor suzanne chetwin editorshipedit currie took editorship herald sunday 1 february 2005 succeeding chetwin 8 august 2005 addressed 2005 panpa annual conference cairns australia launching newspaper change entire market spoke shortly kevin rudd subsequently elected prime minister australia leadership herald sunday major newspaper new zealand consistently increase circulation selling 93665 papers week audit period ended june 2008 figures published currie said three years since launch herald sunday newspaper found voice attracting new sunday newspaper buyers competitive newspaper market country owe huge debt stood us early days readers picked us first time frequently past 12 months weve listened readers liked didnt like evolved accordingly 9 may 2008 currie accepted qantas award newspaper year herald sunday judges said award extraordinary achievement paper launched four years earlier august 2008 nielsen media research national readership survey showed herald sunday increased readership 64000 390000 196 per cent jump 12 months 30 june 2008 currie gained strong reputation advocate open transparent media critic cash bidding wars characterise popular newspaper magazine journalism elsewhere new zealand media overseas controversyedit time acting editor sunday startimes currie defended one journalists charged theft videotape belonged drug case involving teacher pupils evening september 2003 one curries reporters took group young people dinner drinks cost newspaper later night two male youths stole video teacher least one performed oral sex teacher court heard currie quoted time saying sunday startimes acted properly newspaper times acting good faith matter extreme public interest said result newspapers work teacher charged supplying teenagers class drug believe done everything right matter handed videotape police published anything could carry investigation herald sunday also earned nickname car crash sunday among journalists media observers frequent use vehicle accidents human tragedies marketing tools front page later october 2005 editor herald sunday currie discovered one staff reporters john manukia 38 fabricated interview former south auckland police officer anthony solomona currie dismissed manukia gave upfront public apology investigations revealed manukia fabricated material herald sunday reporter another newspaper fairfaxowned sunday news currie wrote candid firstperson article herald sunday 23 october 2005 explaining happened expressing regret readers drew comparisons actions reporters jayson blair new york times stephen glass new republic 2009 currie sued former assistant editor herald sunday unjustified dismissal reporter stephen cook helped currie launch tabloid sacked 2008 two drug squad detectives visited herald sunday offices looking cook reportedly seen address police surveillance day case commenced currie faced scrutiny new zealand herald revealed examples industrial espionage including allegations sent reporter rival sunday startimes print site obtain advanced copies bid get stories paper allegations reported sunday news sunday startimes branded unprecedented spying currie apn employment case court found cooks dismissal justified could adequately explain address surveillance awardsedit 2015 currie awarded fellowship wolfson college cambridge part 2015 canon media awards referencesedit fact sheet 2012 newspaper publishers association retrieved 28 july 2012 archived copy pdf printnetcomau archived original pdf 17 july 2005 retrieved 14 january 2022cite web cs1 maint archived copy title link welcome abc abcorgnz retrieved 29 october 2019 record increase readership herald sunday new zealand herald 1 june 2008 retrieved 10 september 2011 qantas media awards 2008 wwwqantasmediaawardsconz archived original 12 may 2008 retrieved 3 february 2022 readership soars 20 new zealand herald 17 august 2008 retrieved 10 september 2011 hard news case studied public address system wwwpublicaddressnet archived original 20 october 2008 retrieved 14 january 2022 shayne currie 23 october 2005 journalists trail deception lies new zealand herald retrieved 10 september 2011 tony wall 5 july 2009 spying unprecedented says fired journo stuffconz retrieved 10 september 2011 herald sunday justified sacking journalist era new zealand herald 11 december 2009 retrieved 10 september 2011 retrieved httpsenwikipediaorgwindexphptitleshayne_currieoldid1197963001 categories living people1971 birthsnew zealand editorsnew zealand women editorsnew zealand journalistsnew zealand women journalistsnew zealand magazine editorswomen magazine editorshidden categories cs1 maint archived copy titlearticles short descriptionshort description matches wikidataarticles peacock terms august 2015all articles peacock termsengvarb august 2014use dmy dates august 2014articles hcardsblp articles lacking sources august 2015all blp articles lacking sourcesplace birth missing living people page last edited 22 january 2024 1619 utc text available creative commons attributionsharealike license 40 additional terms may apply using site agree terms use privacy policy wikipedia registered trademark wikimedia foundation inc nonprofit organization privacy policy wikipedia disclaimers contact wikipedia code conduct developers statistics cookie statement mobile view toggle limited content width',\n",
       " 'territorials terms often incorporated unit titles far royal artillery ra concerned meant existing ta regiments amalgamated six regiments one independent battery tavr ii 17 regiments tavr iii tavr iii disbanded 1969 units reduced eightman cadres cadres became part sponsoring tavr ii unit although continuing wear badges perpetuating traditions forebears increase size tavr 1971 led formation reformation number regiments based cadres tavr ii honourable artillery company 100 eastern medium regiment ra v 101 northumbrian medium regiment ra v 102 ulster scottish light air defence regiment ra v 103 lancashire artillery volunteers light air defence regiment ra v 104 light air defence regiment ra v 289 parachute battery royal horse artillery tavr iii buckinghamshire regiment ra county durham regiment ra essex yeomanry royal horse artillery ra flintshire denbighshire yeomanry regiment ra greater london regiment ra highland regiment ra humber regiment ra london kent regiment ra lowland regiment ra sheffield artillery volunteers ra south lancashire territorials prince waless volunteers ra south nottinghamshire hussars yeomanry royal horse artillery ra surrey yeomanry queen marys regiment ra warwickshire regiment ra west lancashire regiment ra west riding regiment ra worcestershire territorial regiment ra notesedit frederick pp 103946 litchfield p 358 territorial army ra british army 1945 tavr regiments 1967 regimentsorg referencesedit jbm frederick lineage book british land forces 16601978 vol ii wakefield microform academic 1984 isbn 185117009x norman eh litchfield territorial artillery 19081988 lineage uniforms badges nottingham sherwood press 1992 isbn 0950820520 external sourcesedit british army units 1945 land forces britain empire commonwealth regimentsorg archive site retrieved httpsenwikipediaorgwindexphptitlelist_of_tavr_regiments_of_the_royal_artilleryoldid1098640146 categories tavr regiments royal artilleryroyal artillery listslists british army units formationshidden categories articles short descriptionshort description different wikidataorphaned articles march 2022all orphaned articles page last edited 16 july 2022 2017 utc text available creative commons attributionsharealike license 40 additional terms may apply using site agree terms use privacy policy wikipedia registered trademark wikimedia foundation inc nonprofit organization privacy policy wikipedia disclaimers contact wikipedia code conduct developers statistics cookie statement mobile view toggle limited content width',\n",
       " 'acingthird robin frijns amlin andretti lap leaders motor car race 2015 putrajaya eprix officially capital management putrajaya eprix formula e motor race held 7 november 2015 putrajaya street circuit putrajaya malaysia second edition putrajaya eprix second championship race 201516 formula e season race lucas di grassi reportedit backgroundedit trulli team participate putrajaya already failed participate two weeks earlier beijing time team presented motormatica jt01 scrutineering car pass mandatory checks classificationsedit qualifyingedit pos driver team time gap grid 1 9 sébastien buemi renault edams 119821 11 2 4 stéphane sarrazin venturi 120213 0392 pl1 3 6 loïc duval dragon racing 120251 0430 31 4 8 nicolas prost renault edams 120401 0580 51 5 55 antónio félix da costa team aguri 120414 0593 41 6 11 lucas di grassi abt schaeffler audi sport 120449 0628 6 7 7 jérôme dambrosio dragon racing 120496 0675 7 8 27 robin frijns amlin andretti 120546 0725 8 9 21 bruno senna mahindra racing 120616 0795 9 10 66 daniel abt abt schaeffler audi sport 120679 0858 10 11 23 nick heidfeld mahindra racing 120727 0906 11 12 12 jacques villeneuve venturi 120754 0933 12 13 25 jeanéric vergne ds virgin racing 120820 0999 13 14 2 sam bird ds virgin racing 120905 1084 14 15 77 nathanaël berthon team aguri 121270 1449 15 16 1 nelson piquet jr nextev tcr 121559 1738 16 17 88 oliver turvey nextev tcr 121611 1790 17 18 28 simona de silvestro amlin andretti 121958 2137 18 source notes 1 final grid position top five qualifiers determined super pole shootout super poleedit pos driver team time gap grid 1 9 sébastien buemi renault edams 120196 1 2 4 stéphane sarrazin venturi 120639 0443 pl 3 6 loïc duval dragon racing 120886 0690 3 4 55 antónio félix da costa team aguri 120975 0779 4 5 8 nicolas prost renault edams 121786 1590 5 source raceedit pos driver team laps timeretired grid points 1 11 lucas di grassi abt schaeffler audi sport 33 5017449 6 25 2 2 sam bird ds virgin racing 33 13884 14 18 3 27 robin frijns amlin andretti 33 29776 8 15 4 4 stéphane sarrazin venturi 33 32628 pl 12 5 21 bruno senna mahindra racing 33 34404 9 10 6 55 antónio félix da costa team aguri 33 36925 4 8 7 66 daniel abt abt schaeffler audi sport 33 37283 10 6 8 1 nelson piquet jr nextev tcr 33 40623 16 4 9 23 nick heidfeld mahindra racing 33 52904 11 2 10 8 nicolas prost renault edams 33 53695 5 1 11 12 jacques villeneuve venturi 33 58698 12 12 9 sébastien buemi renault edams 33 107728 1 231 13 28 simona de silvestro amlin andretti 33 124464 18 14 7 jérôme dambrosio dragon racing 32 accident 7 15 77 nathanaël berthon team aguri 32 1 lap 15 16 6 loïc duval dragon racing 29 accident 3 ret 88 oliver turvey nextev tcr 4 accident 17 ret 25 jeanéric vergne ds virgin racing 0 collision 13 notes 1 three points pole position two points fastest lap standings raceedit drivers championship standings pos driver points 1 lucas di grassi 43 2 sébastien buemi 35 3 sam bird 24 4 nick heidfeld 17 5 robin frijns 16 teams championship standings pos constructor points 1 abt schaeffler audi sport 49 2 renault edams 36 3 mahindra racing 27 4 ds virgin racing 24 5 dragon racing 22 notes top five positions included sets standings referencesedit round 2 07 november 2015 putrajaya malaysia fiaformulaecom archived original 10 november 2015 retrieved 3 november 2015 di grassi keeps cool win putrajaya fiaformulaecom archived original 8 november 2015 retrieved 7 november 2015 trulli miss putrajaya eprix fiaformulaecom archived original 8 november 2015 retrieved 6 november 2015 b putrajaya eprix official fia formula e championship fiaformulaecom fia archived original 20151119 retrieved 24 november 2015 previous race2015 beijing eprix fia formula e championship201516 season next race2015 punta del este eprix previous race2014 putrajaya eprix putrajaya eprix next racetbd vteformula e eprix season202324 mxc dir1 dir2 sap tok mis1 mis2 mco ber1 ber2 sha1 sha2 por1 por2 lon1 lon2 202223 mxc dir1 dir2 hyd cap sap ber1 ber2 mco jak1 jak2 por rme1 rme2 lon1 lon2 202122 dir1 dir2 mxc rme1 rme2 mco ber1 ber2 jak mrk nyc1 nyc2 lon1 lon2 seo1 seo2 202021 dir1 dir2 rme1 rme2 val1 val2 mco pue1 pue2 nyc1 nyc2 lon1 lon2 ber1 ber2 201920 dir1 dir2 scl mxc mrk ber1 ber2 ber3 ber4 ber5 ber6 201819 dir mrk scl mxc hkg sny rme par mco ber brn nyc1 nyc2 201718 hkg1 hkg2 mrk scl mxc pde rme par ber zur nyc1 nyc2 201617 hkg mrk bue mxc mco par ber1 ber2 nyc1 nyc2 mtl1 mtl2 201516 bei put pde bue mxc lbh par ber lon1 lon2 201415 bei put pde bue mia lbh mco ber msc lon1 lon2 vteformula eseasons 201415 201516 201617 201718 201819 201920 202021 202122 202223 202324 current eprix 202324 mexico city diriyah são paulo tokyo misano monaco berlin shanghai portland london former eprix beijing bern buenos aires cape town hong kong hyderabad jakarta long beach marrakesh miami montreal moscow new york city paris puebla punta del este putrajaya rome santiago sanya seoul valencia zürich support series jaguar ipace etrophy 20182020 roborace 201618 race cars srt01e gen1 srt05e gen2 gen2evo gen3 related lists list champions list drivers list driver records list eprix retrieved httpsenwikipediaorgwindexphptitle2015_putrajaya_eprixoldid1125757387 categories 2015 malaysian motorsportputrajaya eprix201516 formula e seasonhidden categories pages using easytimeline extensionarticles short descriptionshort description different wikidata page last edited 5 december 2022 1759 utc text available creative commons attributionsharealike license 40 additional terms may apply using site agree terms use privacy policy wikipedia registered trademark wikimedia foundation inc nonprofit organization privacy policy wikipedia disclaimers contact wikipedia code conduct developers statistics cookie statement mobile view toggle limited content width',\n",
       " 'part following southall crew went rehearsal knew songs note perfect young 17 fantastic got standing ovation brilliant drummer ed went play hazel oconnor worked victoria theatre playing drummer buddy musical receptionedit professional ratingsreview scoressourceratingallmusic smash hits510 trouser press called album trebly lifeless except poppy title track sounds like east end ramones chartsedit year chart peakposizion 1980 us billboard 200 177 track listingedit tracks us canada releases album different order uk european releases 1999 cd release track listing ukeu edition three bonus tracks tracks written nick cash guy days except notedside onenotitlewriterslength1boys gang 2452inside 2023trouble 2324so long 2445fun thing 3356the biggest prize sportnick cash guy days jon watson300 side twonotitlewriterslength1hollywood 3012stranger 3133stop stop 2044english wipeout 3275shake 2266boilernick cash guy days pablo labritain jon watson347total length4643 1999 cd bonus tracksnotitlewriterslength13made fool youjon watson31514found late 34015lie lie lie 259total length5637 personneledit 999 nick cash lead vocals guitar guy days guitar backing vocals jon watson bass backing vocals eddie case drums backing vocals pablo labritain composer production vic maile producer original lp malcolm garrett artwork chris gabrin photography release historyedit region date label format catalog canada 1979 polydor records lp pd16256 germany 1979 albion records lp polsc 1013 germany 1979 albion records ariola records lp 201 331320 netherlands 1979 ariola benelux bv polydor records lp 201 331320 201 331 united states 1979 polydor records lp promo pd16256 united states 1980 polydor records lp pd16256 united kingdom 1980 polydor records lp pols 1013 united states 1980 polydor records lp pd16256 france greece 1980 polydor records lp 2383 563 norway sweden 1980 albion records lp 9198 728 united kingdom 1999 anagram records cd cd punk 67 referencesedit moore 2006 pp 256259 b c schnee steve spaz biggest prize sport 999 allmusic retrieved 22 october 2013 cash nick 999 punk band 999punkbandcouk archived original 2 september 2018 retrieved 6 may 2023 starr red albums smash hits 21 february 5 march 28 999 trouser press retrieved 23 december 2023 999 biggest prize sport download songs read commentary biggest prize sport deaconlightcom 3 march 2009 archived original 27 june 2013 retrieved 22 october 2013 sourcesedit collins andrew 4 september 2003 go right growing normal 70s london ebury pp 270271 isbn 9781409000433 oclc 612393284 moore christie 13 october 2006 unultimate rockopedia bloomington authorhouse pp 258259 isbn 9781425964740 oclc 144991354 external linksedit biggest prize sport ninenineninenet schnee steve spaz biggest prize sport allmusic 999 biggest prize sport discogs list releases biggest prize sport rate music authority control databases musicbrainz release group retrieved httpsenwikipediaorgwindexphptitlethe_biggest_prize_in_sportoldid1191482639 categories 1979 albumsalbums produced vic maileariola records albumspolydor records albums999 band albumshidden categories use dmy dates december 2017articles short descriptionshort description different wikidataarticles haudio microformatsarticles musicbrainz release group identifiers page last edited 23 december 2023 2114 utc text available creative commons attributionsharealike license 40 additional terms may apply using site agree terms use privacy policy wikipedia registered trademark wikimedia foundation inc nonprofit organization privacy policy wikipedia disclaimers contact wikipedia code conduct developers statistics cookie statement mobile view toggle limited content width',\n",
       " 'ang castedit arch hall jr jack cruiser bryan robert paget torch lester robert padget burr middleton snooper mickey hoyle rex holman flip johnson roye baker chuck barnes ben shore tom brown tom hart marianne gaba liz william shaw police lt frank fleming bill shaw bruno vesota moose mcgill britt wood cowboy boggs dee gee green gypsy richard cowl torchs father richard cowl patrick hawley officer jenks pat hawley soundtrackedit arch hall jr monkey hatband music lyrics arch hall jr arch hall jr konga joe music lyrics arch hall jr arch hall jr creek see alsoedit list american films 1961 list hood films referencesedit choppers wwwgrindhousedatabasecom retrieved 15 august 2019 external linksedit choppers imdb choppers available free viewing download internet archive vtefilms directed leigh jason price fear 1928 wolves city 1929 eyes underworld 1929 tip 1929 body punch 1929 high gear 1933 preferred list 1933 bubbling 1934 knife party 1934 love bet 1936 bride walks 1936 girl paris 1936 new faces 1937 1937 wise girl 1937 mad miss manton 1938 flying irishman 1939 career 1939 model wife 1941 three girls town 1941 lady night 1942 dangerous blondes 1943 nine girls 1944 carolina blues 1944 meet broadway 1946 lost honeymoon 1947 blue 1947 man texas 1948 okinawa 1952 gogetter 1956 choppers 1961 festival girls 1961 1960s drama filmrelated article stub help wikipedia expanding itvte retrieved httpsenwikipediaorgwindexphptitlethe_choppersoldid1190993340 categories 1961 films1961 drama filmsamerican blackandwhite filmsamerican drama filmsfilms directed leigh jasonamerican auto racing filmsteensploitation1960s englishlanguage films1960s american films1960s drama film stubshidden categories articles short descriptionshort description matches wikidatatemplate film date 1 release datearticles internet archive linksall stub articles page last edited 20 december 2023 2358 utc text available creative commons attributionsharealike license 40 additional terms may apply using site agree terms use privacy policy wikipedia registered trademark wikimedia foundation inc nonprofit organization privacy policy wikipedia disclaimers contact wikipedia code conduct developers statistics cookie statement mobile view toggle limited content width']"
      ]
     },
     "execution_count": 24,
     "metadata": {},
     "output_type": "execute_result"
    }
   ],
   "source": [
    "import re\n",
    "import requests\n",
    "from bs4 import BeautifulSoup\n",
    "from tqdm import tqdm\n",
    "from nltk.corpus import stopwords\n",
    "\n",
    "stop_words = set(stopwords.words('english'))\n",
    "number_of_documents_per_category = 5\n",
    "num_category = 2\n",
    "documents = []\n",
    "\n",
    "for i in tqdm(range(num_category)):\n",
    "    for i in range(number_of_documents_per_category):\n",
    "        url = f'https://wikipedia.org/wiki/Special:Random'\n",
    "        page = requests.get(url)\n",
    "        soup = BeautifulSoup(page.content, 'html.parser')\n",
    "        text = soup.get_text()[2000:] # to remove repeated words\n",
    "        text = text.lower()\n",
    "        text = re.sub(r'\\[[0-9]*\\]',' ',text) \n",
    "        text = re.sub(r'\\s+',' ',text)\n",
    "        text = re.sub(r'[^\\w\\s]','',text)\n",
    "        text = ' '.join([word for word in text.split() if word not in stop_words])\n",
    "        documents.append(text)\n",
    "documents"
   ]
  },
  {
   "cell_type": "code",
   "execution_count": 25,
   "metadata": {},
   "outputs": [
    {
     "name": "stdout",
     "output_type": "stream",
     "text": [
      "Unigram count matrix shape: (10, 1808)\n",
      "Bigram probability matrix shape: (10, 4787)\n",
      "TF-IDF matrix shape: (10, 1808)\n"
     ]
    }
   ],
   "source": [
    "from sklearn.feature_extraction.text import CountVectorizer, TfidfTransformer\n",
    "from sklearn.preprocessing import normalize\n",
    "\n",
    "vectorizer = CountVectorizer()\n",
    "X = vectorizer.fit_transform(documents)\n",
    "unigram_count = X.toarray()  # Unigram count matrix\n",
    "\n",
    "# Bigram probability matrix\n",
    "bigram = CountVectorizer(ngram_range=(1,2), analyzer='word').fit(documents)\n",
    "X_bigram = bigram.transform(documents)\n",
    "sum_cols = X_bigram.sum(axis=0)\n",
    "bigram_prob = normalize(X_bigram, norm='l1', axis=1) \n",
    "\n",
    "tfidf = TfidfTransformer().fit_transform(X) # TF-IDF matrix\n",
    "\n",
    "print('Unigram count matrix shape:', unigram_count.shape)\n",
    "print('Bigram probability matrix shape:', bigram_prob.shape)\n",
    "print('TF-IDF matrix shape:', tfidf.shape)"
   ]
  },
  {
   "cell_type": "code",
   "execution_count": 26,
   "metadata": {},
   "outputs": [
    {
     "name": "stdout",
     "output_type": "stream",
     "text": [
      "[0, 1, 0, 0, 0]\n",
      "[0.00024449877750611245, 0.00024449877750611245, 0.00024449877750611245, 0.0024449877750611247, 0.00024449877750611245]\n",
      "[20.723265836946414, 6.907755278982138, 2.302585092994046, 1.6094379124341003, 0.9162907318741551]\n"
     ]
    }
   ],
   "source": [
    "import nltk\n",
    "from nltk.util import ngrams\n",
    "from collections import Counter\n",
    "import numpy as np\n",
    "\n",
    "tokenizer = nltk.RegexpTokenizer(r'\\w+')\n",
    "docs_tokens = [tokenizer.tokenize(doc) for doc in documents]\n",
    "\n",
    "vocab = set()\n",
    "for doc_tokens in docs_tokens:\n",
    "    vocab.update(doc_tokens)\n",
    "vocab = list(vocab)\n",
    "\n",
    "# Unigram count matrix\n",
    "unigram_count = [[doc_tokens.count(word) for word in vocab] for doc_tokens in docs_tokens]\n",
    "\n",
    "# Bigram probability matrix\n",
    "bigrams = [list(ngrams(doc,2)) for doc in docs_tokens]\n",
    "bigrams_freq = Counter([b for doc in bigrams for b in doc])\n",
    "bigrams_prob = [[bigrams_freq[b]/sum(bigrams_freq.values()) for b in set(ngrams(doc,2))] for doc in docs_tokens]\n",
    "\n",
    "# TF-IDF matrix \n",
    "doc_freq = {word: sum([1 for doc in docs_tokens if word in doc]) for word in vocab}\n",
    "idf = {word: np.log(len(documents)/doc_freq[word]) for word in vocab}\n",
    "tfidf = [[count * idf[word] for word, count in Counter(doc).items()] for doc in docs_tokens]\n",
    "\n",
    "print(unigram_count[0][:5]) \n",
    "print(bigrams_prob[0][:5])\n",
    "print(tfidf[0][:5])"
   ]
  },
  {
   "cell_type": "code",
   "execution_count": 27,
   "metadata": {},
   "outputs": [],
   "source": [
    "import numpy as np\n",
    "\n",
    "class NaiveBayes:\n",
    "    def __init__(self, alpha=1):\n",
    "        self.alpha = alpha\n",
    "        self.vocab = None\n",
    "        self.classes = None\n",
    "        self.prior = None\n",
    "        self.likelihood = None\n",
    "\n",
    "    def fit(self, X, y):\n",
    "        self.classes = np.unique(y)\n",
    "        self.vocab = set()\n",
    "        for doc in X:\n",
    "            self.vocab.update(doc)\n",
    "        self.vocab = list(self.vocab)\n",
    "\n",
    "        n_instances = len(X)\n",
    "        n_classes = len(self.classes)\n",
    "        n_vocab = len(self.vocab)\n",
    "\n",
    "        self.prior = np.zeros(n_classes)\n",
    "        for c in self.classes:\n",
    "            self.prior[c] = np.sum(y == c) / n_instances\n",
    "        self.likelihood = np.zeros((n_classes, n_vocab))\n",
    "\n",
    "        for c in self.classes:\n",
    "            class_docs = [doc for doc, cls in zip(X, y) if cls == c]\n",
    "            total_words = sum(len(doc) for doc in class_docs)\n",
    "            word_counts = np.zeros(n_vocab)\n",
    "            for doc in class_docs:\n",
    "                for word in doc:\n",
    "                    word_counts[self.vocab.index(word)] += 1\n",
    "            self.likelihood[c] = (word_counts + self.alpha) / (total_words + n_vocab * self.alpha)\n",
    "\n",
    "\n",
    "    def predict(self, X, use_unigram=True, use_bigram=True, use_tfidf=True):\n",
    "        predictions = []\n",
    "        for doc in X:\n",
    "            scores = np.log(self.prior)\n",
    "            unseen_class_score = np.log(1 / len(self.classes))  # Default score for unseen classes\n",
    "            for word in doc:\n",
    "                if use_unigram:\n",
    "                    if word in self.vocab:\n",
    "                        scores += np.log(self.likelihood[:, self.vocab.index(word)])\n",
    "                    else:\n",
    "                        scores += unseen_class_score\n",
    "            if use_bigram:\n",
    "                bigrams = list(ngrams(doc, 2))\n",
    "                for bigram in bigrams:\n",
    "                    if bigram in bigram_prob:\n",
    "                        scores += np.log(bigram_prob[bigram])\n",
    "                    else:\n",
    "                        scores += unseen_class_score\n",
    "            if use_tfidf:\n",
    "                tfidf_val = np.array([tfidf[doc.index(word)] for word in doc if word in self.vocab])\n",
    "                for i, score in enumerate(scores):\n",
    "                    if len(tfidf_val) > 0:\n",
    "                        scores[i] += np.sum(tfidf_val * np.log(\n",
    "                          self.likelihood[i, [self.vocab.index(word) for word in doc if word in self.vocab]]\n",
    "                        ))\n",
    "                    else:\n",
    "                        scores[i] += unseen_class_score * sum(1 for word in doc if word not in self.vocab)\n",
    "            predictions.append(self.classes[np.argmax(scores)])\n",
    "        return predictions"
   ]
  },
  {
   "cell_type": "code",
   "execution_count": 28,
   "metadata": {},
   "outputs": [],
   "source": [
    "X = unigram_count \n",
    "y = [0, 1, 1, 0, 1, 1, 1, 0, 1, 1]\n",
    "\n",
    "nb = NaiveBayes()\n",
    "nb.fit(X, y)"
   ]
  },
  {
   "cell_type": "code",
   "execution_count": 29,
   "metadata": {},
   "outputs": [
    {
     "data": {
      "text/plain": [
       "[1, 1, 1, 1, 1, 1, 1, 1, 1, 1]"
      ]
     },
     "execution_count": 29,
     "metadata": {},
     "output_type": "execute_result"
    }
   ],
   "source": [
    "nb.predict(documents, use_unigram=True, use_bigram=True, use_tfidf=False)"
   ]
  },
  {
   "cell_type": "code",
   "execution_count": 30,
   "metadata": {},
   "outputs": [
    {
     "data": {
      "text/plain": [
       "[1, 1, 1, 1, 1, 1, 1, 1, 1, 1]"
      ]
     },
     "execution_count": 30,
     "metadata": {},
     "output_type": "execute_result"
    }
   ],
   "source": [
    "nb.predict(documents, use_unigram=True, use_bigram=False, use_tfidf=False)"
   ]
  },
  {
   "cell_type": "code",
   "execution_count": 31,
   "metadata": {},
   "outputs": [
    {
     "data": {
      "text/plain": [
       "[1, 1, 1, 1, 1, 1, 1, 1, 1, 1]"
      ]
     },
     "execution_count": 31,
     "metadata": {},
     "output_type": "execute_result"
    }
   ],
   "source": [
    "nb.predict(documents, use_unigram=False, use_bigram=True, use_tfidf=False)"
   ]
  },
  {
   "cell_type": "code",
   "execution_count": 32,
   "metadata": {},
   "outputs": [
    {
     "data": {
      "text/plain": [
       "[1, 1, 1, 1, 1, 1, 1, 1, 1, 1]"
      ]
     },
     "execution_count": 32,
     "metadata": {},
     "output_type": "execute_result"
    }
   ],
   "source": [
    "nb.predict(documents, use_unigram=False, use_bigram=False, use_tfidf=True)"
   ]
  }
 ],
 "metadata": {
  "kernelspec": {
   "display_name": "Python 3",
   "language": "python",
   "name": "python3"
  },
  "language_info": {
   "codemirror_mode": {
    "name": "ipython",
    "version": 3
   },
   "file_extension": ".py",
   "mimetype": "text/x-python",
   "name": "python",
   "nbconvert_exporter": "python",
   "pygments_lexer": "ipython3",
   "version": "3.11.6"
  }
 },
 "nbformat": 4,
 "nbformat_minor": 2
}
